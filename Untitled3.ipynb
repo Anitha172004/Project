{
  "nbformat": 4,
  "nbformat_minor": 0,
  "metadata": {
    "colab": {
      "provenance": [],
      "authorship_tag": "ABX9TyP754X6bDux50zd+XQ3KUg1",
      "include_colab_link": true
    },
    "kernelspec": {
      "name": "python3",
      "display_name": "Python 3"
    },
    "language_info": {
      "name": "python"
    }
  },
  "cells": [
    {
      "cell_type": "markdown",
      "metadata": {
        "id": "view-in-github",
        "colab_type": "text"
      },
      "source": [
        "<a href=\"https://colab.research.google.com/github/Anitha172004/Project/blob/main/Untitled3.ipynb\" target=\"_parent\"><img src=\"https://colab.research.google.com/assets/colab-badge.svg\" alt=\"Open In Colab\"/></a>"
      ]
    },
    {
      "cell_type": "code",
      "execution_count": null,
      "metadata": {
        "colab": {
          "base_uri": "https://localhost:8080/"
        },
        "id": "eapeYAQvfBOx",
        "outputId": "acee660e-da6e-469d-d80e-7c7ea71fd12b"
      },
      "outputs": [
        {
          "output_type": "stream",
          "name": "stdout",
          "text": [
            "Requirement already satisfied: neattext in /usr/local/lib/python3.11/dist-packages (0.1.3)\n",
            "Requirement already satisfied: seaborn in /usr/local/lib/python3.11/dist-packages (0.13.2)\n",
            "Requirement already satisfied: scikit-learn in /usr/local/lib/python3.11/dist-packages (1.6.1)\n",
            "Requirement already satisfied: joblib in /usr/local/lib/python3.11/dist-packages (1.4.2)\n",
            "Requirement already satisfied: numpy!=1.24.0,>=1.20 in /usr/local/lib/python3.11/dist-packages (from seaborn) (1.26.4)\n",
            "Requirement already satisfied: pandas>=1.2 in /usr/local/lib/python3.11/dist-packages (from seaborn) (2.2.2)\n",
            "Requirement already satisfied: matplotlib!=3.6.1,>=3.4 in /usr/local/lib/python3.11/dist-packages (from seaborn) (3.10.0)\n",
            "Requirement already satisfied: scipy>=1.6.0 in /usr/local/lib/python3.11/dist-packages (from scikit-learn) (1.13.1)\n",
            "Requirement already satisfied: threadpoolctl>=3.1.0 in /usr/local/lib/python3.11/dist-packages (from scikit-learn) (3.5.0)\n",
            "Requirement already satisfied: contourpy>=1.0.1 in /usr/local/lib/python3.11/dist-packages (from matplotlib!=3.6.1,>=3.4->seaborn) (1.3.1)\n",
            "Requirement already satisfied: cycler>=0.10 in /usr/local/lib/python3.11/dist-packages (from matplotlib!=3.6.1,>=3.4->seaborn) (0.12.1)\n",
            "Requirement already satisfied: fonttools>=4.22.0 in /usr/local/lib/python3.11/dist-packages (from matplotlib!=3.6.1,>=3.4->seaborn) (4.55.7)\n",
            "Requirement already satisfied: kiwisolver>=1.3.1 in /usr/local/lib/python3.11/dist-packages (from matplotlib!=3.6.1,>=3.4->seaborn) (1.4.8)\n",
            "Requirement already satisfied: packaging>=20.0 in /usr/local/lib/python3.11/dist-packages (from matplotlib!=3.6.1,>=3.4->seaborn) (24.2)\n",
            "Requirement already satisfied: pillow>=8 in /usr/local/lib/python3.11/dist-packages (from matplotlib!=3.6.1,>=3.4->seaborn) (11.1.0)\n",
            "Requirement already satisfied: pyparsing>=2.3.1 in /usr/local/lib/python3.11/dist-packages (from matplotlib!=3.6.1,>=3.4->seaborn) (3.2.1)\n",
            "Requirement already satisfied: python-dateutil>=2.7 in /usr/local/lib/python3.11/dist-packages (from matplotlib!=3.6.1,>=3.4->seaborn) (2.8.2)\n",
            "Requirement already satisfied: pytz>=2020.1 in /usr/local/lib/python3.11/dist-packages (from pandas>=1.2->seaborn) (2024.2)\n",
            "Requirement already satisfied: tzdata>=2022.7 in /usr/local/lib/python3.11/dist-packages (from pandas>=1.2->seaborn) (2025.1)\n",
            "Requirement already satisfied: six>=1.5 in /usr/local/lib/python3.11/dist-packages (from python-dateutil>=2.7->matplotlib!=3.6.1,>=3.4->seaborn) (1.17.0)\n",
            "   Emotion                                               Text\n",
            "0  neutral                                             Why ? \n",
            "1      joy    Sage Act upgrade on my to do list for tommorow.\n",
            "2  sadness  ON THE WAY TO MY HOMEGIRL BABY FUNERAL!!! MAN ...\n",
            "3      joy   Such an eye ! The true hazel eye-and so brill...\n",
            "4      joy  @Iluvmiasantos ugh babe.. hugggzzz for u .!  b...\n",
            "Emotion\n",
            "joy         11045\n",
            "sadness      6722\n",
            "fear         5410\n",
            "anger        4297\n",
            "surprise     4062\n",
            "neutral      2254\n",
            "disgust       856\n",
            "shame         146\n",
            "Name: count, dtype: int64\n",
            "Logistic Regression Accuracy: 0.6227246598965319\n"
          ]
        }
      ],
      "source": [
        "# Install required libraries (run in Jupyter Notebook or Colab)\n",
        "!pip install neattext seaborn scikit-learn joblib\n",
        "\n",
        "# Import necessary libraries\n",
        "import numpy as np\n",
        "import pandas as pd\n",
        "import seaborn as sns\n",
        "import neattext.functions as nfx\n",
        "import joblib\n",
        "\n",
        "from sklearn.model_selection import train_test_split\n",
        "from sklearn.pipeline import Pipeline\n",
        "from sklearn.feature_extraction.text import CountVectorizer\n",
        "from sklearn.svm import SVC\n",
        "from sklearn.ensemble import RandomForestClassifier\n",
        "from sklearn.linear_model import LogisticRegression\n",
        "\n",
        "# Load the dataset (Ensure the file path is correct)\n",
        "df = pd.read_csv('/content/emotion_dataset_raw.csv')\n",
        "\n",
        "# Display the first few rows\n",
        "print(df.head())\n",
        "\n",
        "# Check class distribution\n",
        "print(df['Emotion'].value_counts())\n",
        "\n",
        "# Plot class distribution\n",
        "sns.countplot(x='Emotion', data=df)\n",
        "\n",
        "# Clean text data\n",
        "df['Clean_text'] = df['Text'].apply(nfx.clean_text)  # Removes stopwords, special characters, extra spaces\n",
        "\n",
        "# Split dataset\n",
        "X = df['Clean_text']\n",
        "y = df['Emotion']\n",
        "X_train, X_test, y_train, y_test = train_test_split(X, y, test_size=0.3, random_state=42)\n",
        "\n",
        "# Logistic Regression Model\n",
        "pipe_lr = Pipeline(steps=[('cv', CountVectorizer()), ('lr', LogisticRegression(max_iter=200))])\n",
        "pipe_lr.fit(X_train, y_train)\n",
        "print(\"Logistic Regression Accuracy:\", pipe_lr.score(X_test, y_test))\n",
        "\n",
        "# SVM Model\n",
        "pipe_svc = Pipeline(steps=[('cv', CountVectorizer()), ('svc', SVC(kernel='rbf', C=10))])\n",
        "pipe_svc.fit(X_train, y_train)\n",
        "print(\"SVM Accuracy:\", pipe_svc.score(X_test, y_test))\n",
        "\n",
        "# Random Forest Model\n",
        "pipe_rf = Pipeline(steps=[('cv', CountVectorizer()), ('rf', RandomForestClassifier(n_estimators=100, random_state=42))])\n",
        "pipe_rf.fit(X_train, y_train)\n",
        "print(\"Random Forest Accuracy:\", pipe_rf.score(X_test, y_test))\n",
        "\n",
        "# Save the best model (assuming Random Forest performs best)\n",
        "joblib.dump(pipe_rf, 'text_emotion_classifier.pkl')\n",
        "\n",
        "print(\"Model saved successfully as text_emotion_classifier.pkl\")\n"
      ]
    }
  ]
}